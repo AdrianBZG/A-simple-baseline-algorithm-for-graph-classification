{
 "cells": [
  {
   "cell_type": "markdown",
   "metadata": {},
   "source": [
    "# A Simple Baseline Algorithm for Graph Classification"
   ]
  },
  {
   "cell_type": "markdown",
   "metadata": {},
   "source": [
    "##### Edouard Pineau, Nathan de Lara"
   ]
  },
  {
   "cell_type": "code",
   "execution_count": 1,
   "metadata": {
    "collapsed": true
   },
   "outputs": [],
   "source": [
    "import networkx as nx\n",
    "import numpy as np\n",
    "import pandas as pd\n",
    "\n",
    "from scipy import sparse\n",
    "\n",
    "from sklearn.preprocessing import LabelEncoder\n",
    "\n",
    "from sklearn.ensemble import RandomForestClassifier\n",
    "from sklearn.model_selection import StratifiedKFold\n",
    "\n",
    "from sklearn.model_selection import cross_val_score\n",
    "\n",
    "%matplotlib inline\n"
   ]
  },
  {
   "cell_type": "markdown",
   "metadata": {},
   "source": [
    "### Loading all datasets"
   ]
  },
  {
   "cell_type": "code",
   "execution_count": 2,
   "metadata": {
    "collapsed": true
   },
   "outputs": [],
   "source": [
    "class GraphDataset:\n",
    "    def __init__(self, folder_path=''):\n",
    "\n",
    "        G = nx.Graph()\n",
    "        data_adj = np.loadtxt(folder_path + '_A.txt', delimiter=',').astype(int)\n",
    "        data_graph_indicator = np.loadtxt(folder_path + '_graph_indicator.txt', delimiter=',').astype(int)\n",
    "        labels = np.loadtxt(folder_path + '_graph_labels.txt', delimiter=',').astype(int)\n",
    "\n",
    "        data_tuple = list(map(tuple, data_adj))\n",
    "        G.add_edges_from(data_tuple)\n",
    "        G.remove_nodes_from(list(nx.isolates(G)))\n",
    "\n",
    "        # split into graphs\n",
    "\n",
    "        le = LabelEncoder()\n",
    "        self.labels_ = le.fit_transform(labels)\n",
    "        self.n_classes_ = len(le.classes_)\n",
    "        self.n_graphs_ = len(self.labels_)\n",
    "\n",
    "        graph_num = data_graph_indicator.max()\n",
    "        node_list = np.arange(data_graph_indicator.shape[0]) + 1\n",
    "        self.graphs_ = []\n",
    "\n",
    "        for i in range(graph_num):\n",
    "\n",
    "            nodes = node_list[data_graph_indicator == i + 1]\n",
    "            G_sub = G.subgraph(nodes).copy()\n",
    "            \n",
    "            max_cc = max(nx.connected_components(G_sub), key=len)\n",
    "            G_sub = G_sub.subgraph(max_cc).copy()\n",
    "            G_sub.graph['label'] = self.labels_ [i]\n",
    "            nx.convert_node_labels_to_integers(G_sub)\n",
    "            self.graphs_.append(G_sub)     \n",
    "\n",
    "        self.graphs_ = np.array(self.graphs_)\n",
    "\n",
    "        print('Loaded')"
   ]
  },
  {
   "cell_type": "code",
   "execution_count": 3,
   "metadata": {
    "collapsed": true
   },
   "outputs": [],
   "source": [
    "graphs_name = ['MUTAG', 'PTC_MR', 'ENZYMES', 'PROTEINS_full', 'DD', 'NCI1']\n",
    "data_pwd = 'DATASETS/'"
   ]
  },
  {
   "cell_type": "code",
   "execution_count": 4,
   "metadata": {
    "scrolled": false
   },
   "outputs": [
    {
     "name": "stdout",
     "output_type": "stream",
     "text": [
      "Loaded\n",
      "Loaded\n",
      "Loaded\n",
      "Loaded\n",
      "Loaded\n",
      "Loaded\n"
     ]
    }
   ],
   "source": [
    "datasets = {}\n",
    "for gn in graphs_name:\n",
    "    datasets[gn] = GraphDataset(folder_path=data_pwd + gn + '/' + gn)"
   ]
  },
  {
   "cell_type": "markdown",
   "metadata": {},
   "source": [
    "### Spectral embedding, reshaping and training"
   ]
  },
  {
   "cell_type": "markdown",
   "metadata": {},
   "source": [
    "Embedding of the nodes: creation of the spectral features"
   ]
  },
  {
   "cell_type": "code",
   "execution_count": 5,
   "metadata": {
    "collapsed": true
   },
   "outputs": [],
   "source": [
    "def padded_spectral(graph, embedding_dimension=16, normalized=True):\n",
    "    \n",
    "    # Padding with zeros\n",
    "    embedding = np.zeros(embedding_dimension)\n",
    "    \n",
    "    # Usage of networkx graph objects\n",
    "    adj_matrix = nx.adj_matrix(graph)\n",
    "    n_nodes, m_nodes = adj_matrix.shape\n",
    "    k = min(embedding_dimension + 1, n_nodes - 1)\n",
    "\n",
    "    if normalized:\n",
    "        laplacian = nx.normalized_laplacian_matrix(graph)\n",
    "    else:\n",
    "        laplacian = nx.laplacian_matrix(graph)\n",
    "\n",
    "    # Minus the eigen decomposition of minus the Laplacian is more stable than directly\n",
    "    # computing the eigen decomposition of the Laplacian\n",
    "    \n",
    "    v0 = np.random.uniform(-1, 1, laplacian.shape[0])\n",
    "    eigenvalues = sparse.linalg.eigsh(-laplacian, k=k, sigma=1.0, which='LM', tol=1e-6, v0=v0, return_eigenvectors=False)\n",
    "    embedding[:len(eigenvalues)-1] = sorted(-eigenvalues)[1:]\n",
    "    \n",
    "    return embedding"
   ]
  },
  {
   "cell_type": "code",
   "execution_count": 6,
   "metadata": {
    "collapsed": true
   },
   "outputs": [],
   "source": [
    "def dataset_embedding(dataset, embedding_dim, normalized=True):\n",
    "\n",
    "    list_graphs = []\n",
    "    for g in dataset.graphs_:\n",
    "        x = padded_spectral(g, embedding_dim, normalized)\n",
    "        y = g.graph['label']\n",
    "\n",
    "        list_graphs.append((x, y))\n",
    "\n",
    "    X = np.array([l[0] for l in list_graphs])\n",
    "    labels = np.array([l[1] for l in list_graphs])\n",
    "    \n",
    "    return X, labels"
   ]
  },
  {
   "cell_type": "code",
   "execution_count": 7,
   "metadata": {
    "collapsed": true
   },
   "outputs": [],
   "source": [
    "# Mean number of nodes per dataset\n",
    "\n",
    "embedding_dims = {'MUTAG': 18, 'PTC_MR': 14, 'ENZYMES': 33, 'PROTEINS_full': 39, 'DD': 284, 'NCI1': 30}"
   ]
  },
  {
   "cell_type": "code",
   "execution_count": 8,
   "metadata": {
    "collapsed": true
   },
   "outputs": [],
   "source": [
    "embedded_datasets = {}\n",
    "\n",
    "for name, dataset in datasets.items():\n",
    "    k = embedding_dims[name]\n",
    "    X, y = dataset_embedding(dataset, k)\n",
    "    embedded_datasets[name] = {'X': X, 'y': y}"
   ]
  },
  {
   "cell_type": "markdown",
   "metadata": {},
   "source": [
    "Training for all datasets and embedding dimensions"
   ]
  },
  {
   "cell_type": "code",
   "execution_count": 9,
   "metadata": {},
   "outputs": [
    {
     "name": "stdout",
     "output_type": "stream",
     "text": [
      "Dataset: MUTAG, Embedding dim: 18, Accuracy: 0.883918\n",
      "Dataset: PTC_MR, Embedding dim: 14, Accuracy: 0.627941\n",
      "Dataset: ENZYMES, Embedding dim: 33, Accuracy: 0.436667\n",
      "Dataset: PROTEINS_full, Embedding dim: 39, Accuracy: 0.732328\n",
      "Dataset: DD, Embedding dim: 284, Accuracy: 0.753799\n",
      "Dataset: NCI1, Embedding dim: 30, Accuracy: 0.752792\n"
     ]
    }
   ],
   "source": [
    "rf_parameters = {'n_estimators': 500, 'max_depth': 100}\n",
    "\n",
    "for name, dataset in datasets.items():\n",
    "\n",
    "    X, y = embedded_datasets[name]['X'], embedded_datasets[name]['y']\n",
    "\n",
    "    rf = RandomForestClassifier(**rf_parameters, random_state=1, class_weight='balanced') \n",
    "    skf = StratifiedKFold(n_splits=10, shuffle=True, random_state=1)\n",
    "\n",
    "    cv_results = cross_val_score(rf, X, y, n_jobs=1, cv=skf, scoring='accuracy')\n",
    "    \n",
    "    print('Dataset: {}, Embedding dim: {}, Accuracy: {:2f}'.format(name, X.shape[1], np.mean(cv_results)))"
   ]
  },
  {
   "cell_type": "markdown",
   "metadata": {},
   "source": [
    "Study on hyper-parametrization"
   ]
  },
  {
   "cell_type": "code",
   "execution_count": 10,
   "metadata": {
    "collapsed": true,
    "scrolled": true
   },
   "outputs": [],
   "source": [
    "import pandas as pd\n",
    "\n",
    "hp_test_means, hp_test_std = {}, {}\n",
    "\n",
    "rf_parameters_grid = {'n_estimators': [1, 10, 50, 100, 250, 750, 1000], \n",
    "                         'min_samples_leaf': [2, 3, 4, 5, 6], \n",
    "                         'max_depth': [1, 5, 10, 50, 250, 500, 750, 1000], \n",
    "                         'bootstrap': [False]}\n",
    "\n",
    "\n",
    "rf_parameters_default = {'n_estimators': 500, 'min_samples_leaf': 1, 'max_depth': 100, \n",
    "                         'bootstrap': True, 'class_weight': 'balanced'}\n",
    "\n",
    "# Non default parameters\n",
    "\n",
    "for para_name in rf_parameters_grid:\n",
    "    \n",
    "    parameters_index = rf_parameters_grid[para_name] + [rf_parameters_default[para_name]]\n",
    "    parameters_index.sort()\n",
    "    \n",
    "    hp_test_means[para_name] = pd.DataFrame(index=parameters_index, columns=list(datasets.keys()))\n",
    "    hp_test_std[para_name] = pd.DataFrame(index=parameters_index, columns=list(datasets.keys()))\n",
    "    \n",
    "    rf_parameters = rf_parameters_default.copy()\n",
    "    \n",
    "    for para_val in rf_parameters_grid[para_name]:\n",
    "        \n",
    "        rf_parameters[para_name] = para_val\n",
    "        \n",
    "        for name, dataset in datasets.items():\n",
    "\n",
    "            X, y = embedded_datasets[name]['X'], embedded_datasets[name]['y']\n",
    "\n",
    "            rf = RandomForestClassifier(**rf_parameters, random_state=1)\n",
    "            skf = StratifiedKFold(n_splits=10, shuffle=True, random_state=1)\n",
    "            \n",
    "            cv_results = cross_val_score(rf, X, y, n_jobs=1, cv=skf, scoring='accuracy')\n",
    "            hp_test_means[para_name][name][para_val] = np.mean(cv_results)\n",
    "            hp_test_std[para_name][name][para_val] = np.std(cv_results)\n",
    "            \n",
    "# Default parameters\n",
    "\n",
    "rf_parameters = rf_parameters_default.copy()\n",
    "\n",
    "for name, dataset in datasets.items():\n",
    "\n",
    "    X, y = embedded_datasets[name]['X'], embedded_datasets[name]['y']\n",
    "\n",
    "    rf = RandomForestClassifier(**rf_parameters, random_state=1) \n",
    "    skf = StratifiedKFold(n_splits=10, shuffle=True, random_state=1)\n",
    "\n",
    "    cv_results = cross_val_score(rf, X, y, n_jobs=1, cv=skf, scoring='accuracy')\n",
    "    \n",
    "    for para_name in rf_parameters_grid:\n",
    "        hp_test_means[para_name][name][rf_parameters[para_name]] = np.mean(cv_results)\n",
    "        hp_test_std[para_name][name][rf_parameters[para_name]] = np.std(cv_results)     "
   ]
  },
  {
   "cell_type": "code",
   "execution_count": 11,
   "metadata": {},
   "outputs": [
    {
     "data": {
      "text/html": [
       "<div>\n",
       "<style>\n",
       "    .dataframe thead tr:only-child th {\n",
       "        text-align: right;\n",
       "    }\n",
       "\n",
       "    .dataframe thead th {\n",
       "        text-align: left;\n",
       "    }\n",
       "\n",
       "    .dataframe tbody tr th {\n",
       "        vertical-align: top;\n",
       "    }\n",
       "</style>\n",
       "<table border=\"1\" class=\"dataframe\">\n",
       "  <thead>\n",
       "    <tr style=\"text-align: right;\">\n",
       "      <th></th>\n",
       "      <th>MUTAG</th>\n",
       "      <th>PTC_MR</th>\n",
       "      <th>ENZYMES</th>\n",
       "      <th>PROTEINS_full</th>\n",
       "      <th>DD</th>\n",
       "      <th>NCI1</th>\n",
       "    </tr>\n",
       "  </thead>\n",
       "  <tbody>\n",
       "    <tr>\n",
       "      <th>1</th>\n",
       "      <td>0.836725</td>\n",
       "      <td>0.575163</td>\n",
       "      <td>0.303333</td>\n",
       "      <td>0.659548</td>\n",
       "      <td>0.69102</td>\n",
       "      <td>0.649894</td>\n",
       "    </tr>\n",
       "    <tr>\n",
       "      <th>10</th>\n",
       "      <td>0.846725</td>\n",
       "      <td>0.610784</td>\n",
       "      <td>0.37</td>\n",
       "      <td>0.707143</td>\n",
       "      <td>0.743615</td>\n",
       "      <td>0.722135</td>\n",
       "    </tr>\n",
       "    <tr>\n",
       "      <th>50</th>\n",
       "      <td>0.862836</td>\n",
       "      <td>0.59951</td>\n",
       "      <td>0.406667</td>\n",
       "      <td>0.726046</td>\n",
       "      <td>0.756298</td>\n",
       "      <td>0.739416</td>\n",
       "    </tr>\n",
       "    <tr>\n",
       "      <th>100</th>\n",
       "      <td>0.873392</td>\n",
       "      <td>0.610784</td>\n",
       "      <td>0.423333</td>\n",
       "      <td>0.730542</td>\n",
       "      <td>0.756349</td>\n",
       "      <td>0.74428</td>\n",
       "    </tr>\n",
       "    <tr>\n",
       "      <th>250</th>\n",
       "      <td>0.878655</td>\n",
       "      <td>0.628105</td>\n",
       "      <td>0.421667</td>\n",
       "      <td>0.730526</td>\n",
       "      <td>0.757182</td>\n",
       "      <td>0.752064</td>\n",
       "    </tr>\n",
       "    <tr>\n",
       "      <th>500</th>\n",
       "      <td>0.883918</td>\n",
       "      <td>0.627941</td>\n",
       "      <td>0.436667</td>\n",
       "      <td>0.732328</td>\n",
       "      <td>0.753799</td>\n",
       "      <td>0.752792</td>\n",
       "    </tr>\n",
       "    <tr>\n",
       "      <th>750</th>\n",
       "      <td>0.878918</td>\n",
       "      <td>0.624837</td>\n",
       "      <td>0.426667</td>\n",
       "      <td>0.730534</td>\n",
       "      <td>0.753842</td>\n",
       "      <td>0.752547</td>\n",
       "    </tr>\n",
       "    <tr>\n",
       "      <th>1000</th>\n",
       "      <td>0.873655</td>\n",
       "      <td>0.622059</td>\n",
       "      <td>0.428333</td>\n",
       "      <td>0.732336</td>\n",
       "      <td>0.752126</td>\n",
       "      <td>0.751578</td>\n",
       "    </tr>\n",
       "  </tbody>\n",
       "</table>\n",
       "</div>"
      ],
      "text/plain": [
       "         MUTAG    PTC_MR   ENZYMES PROTEINS_full        DD      NCI1\n",
       "1     0.836725  0.575163  0.303333      0.659548   0.69102  0.649894\n",
       "10    0.846725  0.610784      0.37      0.707143  0.743615  0.722135\n",
       "50    0.862836   0.59951  0.406667      0.726046  0.756298  0.739416\n",
       "100   0.873392  0.610784  0.423333      0.730542  0.756349   0.74428\n",
       "250   0.878655  0.628105  0.421667      0.730526  0.757182  0.752064\n",
       "500   0.883918  0.627941  0.436667      0.732328  0.753799  0.752792\n",
       "750   0.878918  0.624837  0.426667      0.730534  0.753842  0.752547\n",
       "1000  0.873655  0.622059  0.428333      0.732336  0.752126  0.751578"
      ]
     },
     "execution_count": 11,
     "metadata": {},
     "output_type": "execute_result"
    }
   ],
   "source": [
    "hp_test_means['n_estimators']"
   ]
  },
  {
   "cell_type": "code",
   "execution_count": 12,
   "metadata": {},
   "outputs": [
    {
     "data": {
      "text/html": [
       "<div>\n",
       "<style>\n",
       "    .dataframe thead tr:only-child th {\n",
       "        text-align: right;\n",
       "    }\n",
       "\n",
       "    .dataframe thead th {\n",
       "        text-align: left;\n",
       "    }\n",
       "\n",
       "    .dataframe tbody tr th {\n",
       "        vertical-align: top;\n",
       "    }\n",
       "</style>\n",
       "<table border=\"1\" class=\"dataframe\">\n",
       "  <thead>\n",
       "    <tr style=\"text-align: right;\">\n",
       "      <th></th>\n",
       "      <th>MUTAG</th>\n",
       "      <th>PTC_MR</th>\n",
       "      <th>ENZYMES</th>\n",
       "      <th>PROTEINS_full</th>\n",
       "      <th>DD</th>\n",
       "      <th>NCI1</th>\n",
       "    </tr>\n",
       "  </thead>\n",
       "  <tbody>\n",
       "    <tr>\n",
       "      <th>1</th>\n",
       "      <td>0.883918</td>\n",
       "      <td>0.627941</td>\n",
       "      <td>0.436667</td>\n",
       "      <td>0.732328</td>\n",
       "      <td>0.753799</td>\n",
       "      <td>0.752792</td>\n",
       "    </tr>\n",
       "    <tr>\n",
       "      <th>2</th>\n",
       "      <td>0.878918</td>\n",
       "      <td>0.613562</td>\n",
       "      <td>0.406667</td>\n",
       "      <td>0.735923</td>\n",
       "      <td>0.757239</td>\n",
       "      <td>0.751095</td>\n",
       "    </tr>\n",
       "    <tr>\n",
       "      <th>3</th>\n",
       "      <td>0.883918</td>\n",
       "      <td>0.622059</td>\n",
       "      <td>0.395</td>\n",
       "      <td>0.736816</td>\n",
       "      <td>0.761498</td>\n",
       "      <td>0.745988</td>\n",
       "    </tr>\n",
       "    <tr>\n",
       "      <th>4</th>\n",
       "      <td>0.878918</td>\n",
       "      <td>0.627778</td>\n",
       "      <td>0.386667</td>\n",
       "      <td>0.734138</td>\n",
       "      <td>0.757268</td>\n",
       "      <td>0.742821</td>\n",
       "    </tr>\n",
       "    <tr>\n",
       "      <th>5</th>\n",
       "      <td>0.873363</td>\n",
       "      <td>0.625163</td>\n",
       "      <td>0.385</td>\n",
       "      <td>0.736832</td>\n",
       "      <td>0.758087</td>\n",
       "      <td>0.739653</td>\n",
       "    </tr>\n",
       "    <tr>\n",
       "      <th>6</th>\n",
       "      <td>0.851696</td>\n",
       "      <td>0.622222</td>\n",
       "      <td>0.37</td>\n",
       "      <td>0.741337</td>\n",
       "      <td>0.756385</td>\n",
       "      <td>0.73624</td>\n",
       "    </tr>\n",
       "  </tbody>\n",
       "</table>\n",
       "</div>"
      ],
      "text/plain": [
       "      MUTAG    PTC_MR   ENZYMES PROTEINS_full        DD      NCI1\n",
       "1  0.883918  0.627941  0.436667      0.732328  0.753799  0.752792\n",
       "2  0.878918  0.613562  0.406667      0.735923  0.757239  0.751095\n",
       "3  0.883918  0.622059     0.395      0.736816  0.761498  0.745988\n",
       "4  0.878918  0.627778  0.386667      0.734138  0.757268  0.742821\n",
       "5  0.873363  0.625163     0.385      0.736832  0.758087  0.739653\n",
       "6  0.851696  0.622222      0.37      0.741337  0.756385   0.73624"
      ]
     },
     "execution_count": 12,
     "metadata": {},
     "output_type": "execute_result"
    }
   ],
   "source": [
    "hp_test_means['min_samples_leaf']"
   ]
  },
  {
   "cell_type": "code",
   "execution_count": 13,
   "metadata": {},
   "outputs": [
    {
     "data": {
      "text/html": [
       "<div>\n",
       "<style>\n",
       "    .dataframe thead tr:only-child th {\n",
       "        text-align: right;\n",
       "    }\n",
       "\n",
       "    .dataframe thead th {\n",
       "        text-align: left;\n",
       "    }\n",
       "\n",
       "    .dataframe tbody tr th {\n",
       "        vertical-align: top;\n",
       "    }\n",
       "</style>\n",
       "<table border=\"1\" class=\"dataframe\">\n",
       "  <thead>\n",
       "    <tr style=\"text-align: right;\">\n",
       "      <th></th>\n",
       "      <th>MUTAG</th>\n",
       "      <th>PTC_MR</th>\n",
       "      <th>ENZYMES</th>\n",
       "      <th>PROTEINS_full</th>\n",
       "      <th>DD</th>\n",
       "      <th>NCI1</th>\n",
       "    </tr>\n",
       "  </thead>\n",
       "  <tbody>\n",
       "    <tr>\n",
       "      <th>1</th>\n",
       "      <td>0.84614</td>\n",
       "      <td>0.593301</td>\n",
       "      <td>0.243333</td>\n",
       "      <td>0.71883</td>\n",
       "      <td>0.762303</td>\n",
       "      <td>0.617522</td>\n",
       "    </tr>\n",
       "    <tr>\n",
       "      <th>5</th>\n",
       "      <td>0.878918</td>\n",
       "      <td>0.610621</td>\n",
       "      <td>0.358333</td>\n",
       "      <td>0.735931</td>\n",
       "      <td>0.75637</td>\n",
       "      <td>0.688065</td>\n",
       "    </tr>\n",
       "    <tr>\n",
       "      <th>10</th>\n",
       "      <td>0.883918</td>\n",
       "      <td>0.610131</td>\n",
       "      <td>0.415</td>\n",
       "      <td>0.73684</td>\n",
       "      <td>0.754683</td>\n",
       "      <td>0.735029</td>\n",
       "    </tr>\n",
       "    <tr>\n",
       "      <th>50</th>\n",
       "      <td>0.883918</td>\n",
       "      <td>0.627941</td>\n",
       "      <td>0.436667</td>\n",
       "      <td>0.732328</td>\n",
       "      <td>0.753799</td>\n",
       "      <td>0.752792</td>\n",
       "    </tr>\n",
       "    <tr>\n",
       "      <th>100</th>\n",
       "      <td>0.883918</td>\n",
       "      <td>0.627941</td>\n",
       "      <td>0.436667</td>\n",
       "      <td>0.732328</td>\n",
       "      <td>0.753799</td>\n",
       "      <td>0.752792</td>\n",
       "    </tr>\n",
       "    <tr>\n",
       "      <th>250</th>\n",
       "      <td>0.883918</td>\n",
       "      <td>0.627941</td>\n",
       "      <td>0.436667</td>\n",
       "      <td>0.732328</td>\n",
       "      <td>0.753799</td>\n",
       "      <td>0.752792</td>\n",
       "    </tr>\n",
       "    <tr>\n",
       "      <th>500</th>\n",
       "      <td>0.883918</td>\n",
       "      <td>0.627941</td>\n",
       "      <td>0.436667</td>\n",
       "      <td>0.732328</td>\n",
       "      <td>0.753799</td>\n",
       "      <td>0.752792</td>\n",
       "    </tr>\n",
       "    <tr>\n",
       "      <th>750</th>\n",
       "      <td>0.883918</td>\n",
       "      <td>0.627941</td>\n",
       "      <td>0.436667</td>\n",
       "      <td>0.732328</td>\n",
       "      <td>0.753799</td>\n",
       "      <td>0.752792</td>\n",
       "    </tr>\n",
       "    <tr>\n",
       "      <th>1000</th>\n",
       "      <td>0.883918</td>\n",
       "      <td>0.627941</td>\n",
       "      <td>0.436667</td>\n",
       "      <td>0.732328</td>\n",
       "      <td>0.753799</td>\n",
       "      <td>0.752792</td>\n",
       "    </tr>\n",
       "  </tbody>\n",
       "</table>\n",
       "</div>"
      ],
      "text/plain": [
       "         MUTAG    PTC_MR   ENZYMES PROTEINS_full        DD      NCI1\n",
       "1      0.84614  0.593301  0.243333       0.71883  0.762303  0.617522\n",
       "5     0.878918  0.610621  0.358333      0.735931   0.75637  0.688065\n",
       "10    0.883918  0.610131     0.415       0.73684  0.754683  0.735029\n",
       "50    0.883918  0.627941  0.436667      0.732328  0.753799  0.752792\n",
       "100   0.883918  0.627941  0.436667      0.732328  0.753799  0.752792\n",
       "250   0.883918  0.627941  0.436667      0.732328  0.753799  0.752792\n",
       "500   0.883918  0.627941  0.436667      0.732328  0.753799  0.752792\n",
       "750   0.883918  0.627941  0.436667      0.732328  0.753799  0.752792\n",
       "1000  0.883918  0.627941  0.436667      0.732328  0.753799  0.752792"
      ]
     },
     "execution_count": 13,
     "metadata": {},
     "output_type": "execute_result"
    }
   ],
   "source": [
    "hp_test_means['max_depth']"
   ]
  },
  {
   "cell_type": "code",
   "execution_count": 14,
   "metadata": {},
   "outputs": [
    {
     "data": {
      "text/html": [
       "<div>\n",
       "<style>\n",
       "    .dataframe thead tr:only-child th {\n",
       "        text-align: right;\n",
       "    }\n",
       "\n",
       "    .dataframe thead th {\n",
       "        text-align: left;\n",
       "    }\n",
       "\n",
       "    .dataframe tbody tr th {\n",
       "        vertical-align: top;\n",
       "    }\n",
       "</style>\n",
       "<table border=\"1\" class=\"dataframe\">\n",
       "  <thead>\n",
       "    <tr style=\"text-align: right;\">\n",
       "      <th></th>\n",
       "      <th>MUTAG</th>\n",
       "      <th>PTC_MR</th>\n",
       "      <th>ENZYMES</th>\n",
       "      <th>PROTEINS_full</th>\n",
       "      <th>DD</th>\n",
       "      <th>NCI1</th>\n",
       "    </tr>\n",
       "  </thead>\n",
       "  <tbody>\n",
       "    <tr>\n",
       "      <th>False</th>\n",
       "      <td>0.868099</td>\n",
       "      <td>0.62451</td>\n",
       "      <td>0.43</td>\n",
       "      <td>0.721517</td>\n",
       "      <td>0.749562</td>\n",
       "      <td>0.751094</td>\n",
       "    </tr>\n",
       "    <tr>\n",
       "      <th>True</th>\n",
       "      <td>0.883918</td>\n",
       "      <td>0.627941</td>\n",
       "      <td>0.436667</td>\n",
       "      <td>0.732328</td>\n",
       "      <td>0.753799</td>\n",
       "      <td>0.752792</td>\n",
       "    </tr>\n",
       "  </tbody>\n",
       "</table>\n",
       "</div>"
      ],
      "text/plain": [
       "          MUTAG    PTC_MR   ENZYMES PROTEINS_full        DD      NCI1\n",
       "False  0.868099   0.62451      0.43      0.721517  0.749562  0.751094\n",
       "True   0.883918  0.627941  0.436667      0.732328  0.753799  0.752792"
      ]
     },
     "execution_count": 14,
     "metadata": {},
     "output_type": "execute_result"
    }
   ],
   "source": [
    "hp_test_means['bootstrap']"
   ]
  },
  {
   "cell_type": "code",
   "execution_count": 15,
   "metadata": {},
   "outputs": [
    {
     "data": {
      "text/plain": [
       "<matplotlib.axes._subplots.AxesSubplot at 0x7f6ca31fc710>"
      ]
     },
     "execution_count": 15,
     "metadata": {},
     "output_type": "execute_result"
    },
    {
     "data": {
      "image/png": "[encoded data removed]",
      "text/plain": [
       "<matplotlib.figure.Figure at 0x7f6ca31fcdd8>"
      ]
     },
     "metadata": {},
     "output_type": "display_data"
    }
   ],
   "source": [
    "hp_test_means['bootstrap'].plot(kind='box', figsize=(4, 2), grid=True, title='bootstrap', rot=45)"
   ]
  },
  {
   "cell_type": "code",
   "execution_count": 16,
   "metadata": {},
   "outputs": [
    {
     "data": {
      "text/plain": [
       "<matplotlib.axes._subplots.AxesSubplot at 0x7f6c72dbc748>"
      ]
     },
     "execution_count": 16,
     "metadata": {},
     "output_type": "execute_result"
    },
    {
     "data": {
      "image/png": "[encoded data removed]",
      "text/plain": [
       "<matplotlib.figure.Figure at 0x7f6ca8700eb8>"
      ]
     },
     "metadata": {},
     "output_type": "display_data"
    }
   ],
   "source": [
    "hp_test_means['n_estimators'].plot(kind='box', figsize=(4, 2), grid=True, title='n_estimators', rot=45)"
   ]
  },
  {
   "cell_type": "code",
   "execution_count": 17,
   "metadata": {},
   "outputs": [
    {
     "data": {
      "text/plain": [
       "<matplotlib.axes._subplots.AxesSubplot at 0x7f6c6d745cc0>"
      ]
     },
     "execution_count": 17,
     "metadata": {},
     "output_type": "execute_result"
    },
    {
     "data": {
      "image/png": "[encoded data removed]",
      "text/plain": [
       "<matplotlib.figure.Figure at 0x7f6c9a0265c0>"
      ]
     },
     "metadata": {},
     "output_type": "display_data"
    }
   ],
   "source": [
    "hp_test_means['min_samples_leaf'].plot(kind='box', figsize=(4, 2), grid=True, title='min_samples_leaf', rot=45)"
   ]
  },
  {
   "cell_type": "code",
   "execution_count": 18,
   "metadata": {},
   "outputs": [
    {
     "data": {
      "text/plain": [
       "<matplotlib.axes._subplots.AxesSubplot at 0x7f6cab93ca20>"
      ]
     },
     "execution_count": 18,
     "metadata": {},
     "output_type": "execute_result"
    },
    {
     "data": {
      "image/png": "[encoded data removed]",
      "text/plain": [
       "<matplotlib.figure.Figure at 0x7f6caac42470>"
      ]
     },
     "metadata": {},
     "output_type": "display_data"
    }
   ],
   "source": [
    "hp_test_means['max_depth'].plot(kind='box', figsize=(4, 2), grid=True, title='max_depth', rot=45)"
   ]
  }
 ],
 "metadata": {
  "kernelspec": {
   "display_name": "Python 3",
   "language": "python",
   "name": "python3"
  },
  "language_info": {
   "codemirror_mode": {
    "name": "ipython",
    "version": 3
   },
   "file_extension": ".py",
   "mimetype": "text/x-python",
   "name": "python",
   "nbconvert_exporter": "python",
   "pygments_lexer": "ipython3",
   "version": "3.6.3"
  }
 },
 "nbformat": 4,
 "nbformat_minor": 2
}
